{
 "cells": [
  {
   "cell_type": "markdown",
   "id": "da00bdaa",
   "metadata": {},
   "source": [
    "# L2M reports\n",
    "\n",
    "- NBA produces the last two minute reports for games that are within 5 points in the last 2 minutes\n",
    "- They have a structured table format for each game they are reporting on with some data about each play\n",
    "- Our goal with this notebook is to pull that data from the website and structure it in CSVs"
   ]
  },
  {
   "cell_type": "code",
   "execution_count": 92,
   "id": "992381e3",
   "metadata": {},
   "outputs": [],
   "source": [
    "from bs4 import BeautifulSoup\n",
    "import requests\n",
    "import pandas as pd"
   ]
  },
  {
   "cell_type": "code",
   "execution_count": 93,
   "id": "b12ccd5f",
   "metadata": {},
   "outputs": [],
   "source": [
    "def get_soup(html_link):\n",
    "    r = requests.get(html_link)\n",
    "    soup = BeautifulSoup(r.content, \"html.parser\")\n",
    "    return soup"
   ]
  },
  {
   "cell_type": "code",
   "execution_count": 94,
   "id": "16965982",
   "metadata": {},
   "outputs": [],
   "source": [
    "def get_links(soup):\n",
    "    links = []\n",
    "    for a in soup.find_all('a', href=True):\n",
    "        link = a['href']\n",
    "        if 'L2MReport.html' in link:\n",
    "            links.append(a)\n",
    "    expanded_links = []\n",
    "    for link in links:\n",
    "        expanded_links.append((link['href'], link.get_text()))\n",
    "    return expanded_links"
   ]
  },
  {
   "cell_type": "code",
   "execution_count": 115,
   "id": "4a0ca63d",
   "metadata": {},
   "outputs": [],
   "source": [
    "def get_game_link_data(expanded_links):\n",
    "    df = pd.DataFrame(expanded_links, columns = ['game_link', 'game_score'])\n",
    "\n",
    "    #Had to fix 2 game_score's which had an extra comma in it when we scraped it. typical kinda messy data cleaning. \n",
    "\n",
    "    ix = df[df['game_link'] =='https://official.nba.com/l2m/L2MReport.html?gameId=0022201014'].index\n",
    "    df.loc[ix, 'game_score'] = 'Nets 122, Nuggets 120'\n",
    "\n",
    "    ix = df[df['game_link'] =='https://official.nba.com/l2m/L2MReport.html?gameId=0022200598'].index\n",
    "    df.loc[ix, 'game_score'] = 'Pacers 116, Hornets 111'\n",
    "\n",
    "    blazer_games = df[df['game_score'].apply(lambda x: 'trail' in x.lower())]['game_score']\n",
    "    df.loc[blazer_games.index, 'game_score'] = blazer_games.apply(lambda x: x.replace('Trail Blazers', 'Trailblazers'))\n",
    "\n",
    "    df['team_1_score'] = df['game_score'].apply(lambda x: x.split(',')[0].strip())\n",
    "    df['team_2_score'] = df['game_score'].apply(lambda x: x.split(',')[1].strip())\n",
    "\n",
    "    df['team_1_name' ] = df['team_1_score'].apply(lambda x: x.split(\" \")[0].strip())\n",
    "    df['team_1_score' ] = df['team_1_score'].apply(lambda x: x.split(\" \")[1].strip())\n",
    "\n",
    "    df['team_2_name' ] = df['team_2_score'].apply(lambda x: x.split(\" \")[0].strip())\n",
    "    df['team_2_score' ] = df['team_2_score'].apply(lambda x: x.split(\" \")[1].strip())\n",
    "    \n",
    "    df['game_id'] = df['game_link'].apply(lambda x: x.split('?')[1].split('=')[1])\n",
    "    df['game_id'] = df['game_id'].apply(lambda x: x.split('%')[0])\n",
    "    \n",
    "    return df"
   ]
  },
  {
   "cell_type": "code",
   "execution_count": 119,
   "id": "6cf9580f",
   "metadata": {},
   "outputs": [],
   "source": [
    "nba_22_23 = 'https://official.nba.com/2022-23-nba-officiating-last-two-minute-reports/'\n",
    "nba_23_24 = 'https://official.nba.com/2023-24-nba-officiating-last-two-minute-reports/'"
   ]
  },
  {
   "cell_type": "code",
   "execution_count": 120,
   "id": "eefd9b87",
   "metadata": {},
   "outputs": [],
   "source": [
    "soup = get_soup(nba_22_23)\n",
    "links = get_links(soup)\n",
    "df = get_game_link_data(expanded_links)\n",
    "df.to_csv('../data/nba_22_23_l2m_metadata.csv', index=False)"
   ]
  },
  {
   "cell_type": "code",
   "execution_count": 121,
   "id": "cf84e67a",
   "metadata": {},
   "outputs": [],
   "source": [
    "soup = get_soup(nba_23_24)\n",
    "links = get_links(soup)\n",
    "df = get_game_link_data(expanded_links)\n",
    "df.to_csv('../data/nba_23_24_l2m_metadata.csv', index=False)"
   ]
  },
  {
   "cell_type": "code",
   "execution_count": null,
   "id": "0eb349e9",
   "metadata": {},
   "outputs": [],
   "source": []
  }
 ],
 "metadata": {
  "kernelspec": {
   "display_name": "Python 3 (ipykernel)",
   "language": "python",
   "name": "python3"
  },
  "language_info": {
   "codemirror_mode": {
    "name": "ipython",
    "version": 3
   },
   "file_extension": ".py",
   "mimetype": "text/x-python",
   "name": "python",
   "nbconvert_exporter": "python",
   "pygments_lexer": "ipython3",
   "version": "3.11.5"
  }
 },
 "nbformat": 4,
 "nbformat_minor": 5
}
